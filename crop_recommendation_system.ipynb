{
  "cells": [
    {
      "cell_type": "code",
      "execution_count": null,
      "metadata": {
        "colab": {
          "base_uri": "https://localhost:8080/"
        },
        "id": "o3jbk11pqjNj",
        "outputId": "d12aba2b-7eef-420c-ca8a-4f4cf0503faa"
      },
      "outputs": [],
      "source": [
        "# Mount google drive.\n",
        "from google.colab import drive\n",
        "drive.mount('/content/drive',force_remount=True)"
      ]
    },
    {
      "cell_type": "code",
      "execution_count": null,
      "metadata": {
        "id": "NceM0cbC8XpN"
      },
      "outputs": [],
      "source": [
        "# Import libraries for data manipulations.\n",
        "import pandas as pd\n",
        "from sklearn.preprocessing import MinMaxScaler\n",
        "from sklearn.preprocessing import LabelEncoder\n",
        "import numpy as np\n",
        "\n",
        "# Import libraries for data visualizations.\n",
        "import seaborn as sns\n",
        "from sklearn.model_selection import train_test_split\n",
        "import matplotlib.pyplot as plt\n",
        "\n",
        "\n",
        "# Import libraries for algorithms.\n",
        "from sklearn.tree import DecisionTreeClassifier\n",
        "from sklearn.svm import SVC\n",
        "from sklearn.naive_bayes import GaussianNB\n",
        "from sklearn.neighbors import KNeighborsClassifier\n",
        "\n",
        "# Import libraries to analyze system metrics.\n",
        "from sklearn.metrics import confusion_matrix, classification_report, accuracy_score, precision_score, recall_score, f1_score\n"
      ]
    },
    {
      "cell_type": "code",
      "execution_count": null,
      "metadata": {
        "id": "iOp_702m8aGu"
      },
      "outputs": [],
      "source": [
        "data_dir = '/content/drive/My Drive/DataScience'"
      ]
    },
    {
      "cell_type": "code",
      "execution_count": null,
      "metadata": {
        "colab": {
          "base_uri": "https://localhost:8080/"
        },
        "id": "qXKgIUQ08dn7",
        "outputId": "ce01ebdd-3faf-4d7e-d598-25100a82482c"
      },
      "outputs": [],
      "source": [
        "# Importing data.\n",
        "df = pd.read_csv(f\"{data_dir}/Crop_recommendation.csv\")\n",
        "print(df.shape)"
      ]
    },
    {
      "cell_type": "markdown",
      "metadata": {
        "id": "KjzTFebeoOMn"
      },
      "source": [
        "**Data Analysis**"
      ]
    },
    {
      "cell_type": "code",
      "execution_count": null,
      "metadata": {
        "colab": {
          "base_uri": "https://localhost:8080/",
          "height": 206
        },
        "id": "L7ihJYyrHDWv",
        "outputId": "67ae1148-3d82-43aa-f6a1-b913bee30274"
      },
      "outputs": [],
      "source": [
        "df.head()\n",
        "\n",
        "df.info()\n",
        "\n",
        "df.describe()\n",
        "\n",
        "df.isnull().sum()\n",
        "\n",
        "df['label'].value_counts()"
      ]
    },
    {
      "cell_type": "code",
      "execution_count": null,
      "metadata": {
        "colab": {
          "base_uri": "https://localhost:8080/",
          "height": 601
        },
        "id": "-erchDwQKGNr",
        "outputId": "64b57913-c981-4533-b0a9-05e6b68568aa"
      },
      "outputs": [],
      "source": [
        "# Analysis correlation between different features.\n",
        "corr = df.corr()\n",
        "ax = sns.heatmap(corr,annot=True, cbar=True, cmap='coolwarm')\n",
        "\n",
        "\n",
        "plt.title(\"Correlation Matrix\", fontsize = 20); # title with fontsize 20"
      ]
    },
    {
      "cell_type": "markdown",
      "metadata": {
        "id": "YPAxHOsgkwtG"
      },
      "source": [
        "**Data Preparation**"
      ]
    },
    {
      "cell_type": "code",
      "execution_count": null,
      "metadata": {
        "colab": {
          "base_uri": "https://localhost:8080/"
        },
        "id": "sgTZJdvORzdl",
        "outputId": "515ccc71-9203-490a-f891-8825ba13d28b"
      },
      "outputs": [],
      "source": [
        "# Encode label to numerical values\n",
        "LE = LabelEncoder()\n",
        "df['label'] = LE.fit_transform(df['label'])\n",
        "print(LE.classes_)\n"
      ]
    },
    {
      "cell_type": "code",
      "execution_count": null,
      "metadata": {
        "id": "TYb9fxsWaw0K"
      },
      "outputs": [],
      "source": [
        "features = df[['N','P','K','temperature','humidity','ph','rainfall']]\n",
        "labels = df['label']"
      ]
    },
    {
      "cell_type": "code",
      "execution_count": null,
      "metadata": {
        "id": "ROdb9nharrnL"
      },
      "outputs": [],
      "source": [
        "accuracies=[]\n",
        "f1=[]\n",
        "X_train, X_test, Y_train, Y_test = train_test_split(features, labels, test_size = 0.20, random_state = 42)"
      ]
    },
    {
      "cell_type": "code",
      "execution_count": null,
      "metadata": {
        "colab": {
          "base_uri": "https://localhost:8080/"
        },
        "id": "agntJBGU1mLa",
        "outputId": "0cc14a46-f422-49c8-ea32-474631bbb2b3"
      },
      "outputs": [],
      "source": [
        "scaler = MinMaxScaler()\n",
        "scaler.fit(X_train)\n",
        "X_train = scaler.transform(X_train)\n",
        "X_test = scaler.transform(X_test)\n",
        "print(X_train.shape)\n",
        "print(X_train)"
      ]
    },
    {
      "cell_type": "markdown",
      "metadata": {
        "id": "3XM_82Xks2MI"
      },
      "source": [
        "## DecisionTree Classifier"
      ]
    },
    {
      "cell_type": "code",
      "execution_count": null,
      "metadata": {
        "colab": {
          "base_uri": "https://localhost:8080/"
        },
        "id": "uViRN6MaQ6Ke",
        "outputId": "57e09f79-3b20-4254-ac92-4f3c65d869d5"
      },
      "outputs": [],
      "source": [
        "tree = DecisionTreeClassifier()\n",
        "\n",
        "# Training\n",
        "tree = tree.fit(X_train, Y_train)\n",
        "\n",
        "y_pred_tree = tree.predict(X_test)\n",
        "\n",
        "accuracy_dt = accuracy_score(Y_test, y_pred_tree)\n",
        "\n",
        "f1_dt=f1_score(Y_test,y_pred_tree, average='macro')\n",
        "\n",
        "accuracies.append(accuracy_dt*100)\n",
        "\n",
        "f1.append(f1_dt)\n",
        "\n",
        "print(\"Accuracy of Decision Tree\", accuracy_dt*100)\n",
        "print(\"f1_score of Decision Tree\", f1_dt)"
      ]
    },
    {
      "cell_type": "code",
      "execution_count": null,
      "metadata": {
        "colab": {
          "base_uri": "https://localhost:8080/"
        },
        "id": "2hEsy3P_xZX2",
        "outputId": "0ca91925-f94b-402d-ec26-29caf21ff62a"
      },
      "outputs": [],
      "source": [
        "feature_importance = tree.feature_importances_\n",
        "\n",
        "print(feature_importance)\n",
        "# Print feature importances\n",
        "for i, importance in enumerate(feature_importance):\n",
        "    print(f\"Feature {i+1}: {importance}\")"
      ]
    },
    {
      "cell_type": "code",
      "execution_count": null,
      "metadata": {
        "colab": {
          "base_uri": "https://localhost:8080/",
          "height": 509
        },
        "id": "GPpD7WwYUnJ7",
        "outputId": "c0a57531-7b2d-41b6-9e58-d68dfa62d934"
      },
      "outputs": [],
      "source": [
        "cm= confusion_matrix(Y_test, y_pred_tree)\n",
        "\n",
        "ax = sns.heatmap(cm, annot=True, cmap='Blues')\n",
        "\n",
        "plt.title(\"Confusion Matrix for Decision Tree Classifier\", fontsize = 17) # title with fontsize 20\n",
        "plt.xlabel(\"Actual Values\", fontsize = 15) # x-axis label with fontsize 15\n",
        "plt.ylabel(\"Predicted Values\", fontsize = 15) # y-axis label with fontsize 15"
      ]
    },
    {
      "cell_type": "markdown",
      "metadata": {
        "id": "YirVjd8WtGp9"
      },
      "source": [
        "## KNN Classifier"
      ]
    },
    {
      "cell_type": "code",
      "execution_count": null,
      "metadata": {
        "id": "ZAi3vjdvXz0a"
      },
      "outputs": [],
      "source": [
        "k_values = [3,5,7,9]\n",
        "knn_accuracy=[]\n",
        "knn_f1_score=[]\n",
        "\n",
        "\n",
        "for k_value in k_values:\n",
        "  model = KNeighborsClassifier(n_neighbors = k_value)\n",
        "\n",
        "    # Training\n",
        "  model.fit(X_train,Y_train)\n",
        "\n",
        "  y_pred = model.predict(X_test)\n",
        "  accuracy_knn = accuracy_score(Y_test, y_pred)\n",
        "  f1_knn=f1_score(Y_test,y_pred, average='macro')\n",
        "  accuracy_knn*100\n",
        "  knn_accuracy.append(accuracy_knn)\n",
        "  knn_f1_score.append(f1_knn)\n"
      ]
    },
    {
      "cell_type": "code",
      "execution_count": null,
      "metadata": {
        "id": "vWsHAOLbj_Pp"
      },
      "outputs": [],
      "source": [
        "compare_knn=pd.DataFrame()\n",
        "compare_knn['K Value']= k_values\n",
        "compare_knn[\"Accuracy\"]= knn_accuracy\n",
        "compare_knn[\"F1_Score\"]= knn_f1_score"
      ]
    },
    {
      "cell_type": "code",
      "execution_count": null,
      "metadata": {
        "colab": {
          "base_uri": "https://localhost:8080/",
          "height": 573
        },
        "id": "8MiyD0RxkmRS",
        "outputId": "dcf225dc-d664-4e8f-c336-22479052f3a6"
      },
      "outputs": [],
      "source": [
        "plt.figure(figsize=(8, 6))\n",
        "sns.set(style=\"whitegrid\")\n",
        "ax=sns.barplot(y='Accuracy',x='K Value',data=compare_knn)\n",
        "ax.bar_label(ax.containers[0])\n",
        "plt.title('Accuracy For Different K Value');"
      ]
    },
    {
      "cell_type": "code",
      "execution_count": null,
      "metadata": {
        "colab": {
          "base_uri": "https://localhost:8080/",
          "height": 573
        },
        "id": "5a48HJd5k_1b",
        "outputId": "3762ab0a-3fe3-4d91-da99-3e9289962576"
      },
      "outputs": [],
      "source": [
        "plt.figure(figsize=(8, 6))\n",
        "sns.set(style=\"whitegrid\")\n",
        "ax=sns.barplot(y='F1_Score',x='K Value',data=compare_knn)\n",
        "ax.bar_label(ax.containers[0])\n",
        "plt.title('F1_Score For Different K Values');"
      ]
    },
    {
      "cell_type": "code",
      "execution_count": null,
      "metadata": {
        "colab": {
          "base_uri": "https://localhost:8080/"
        },
        "id": "ZRtc4zcFBnv9",
        "outputId": "6931e426-232f-4029-f371-0b3d2601b3d8"
      },
      "outputs": [],
      "source": [
        "model = KNeighborsClassifier(n_neighbors=3)\n",
        "\n",
        "# Training\n",
        "model.fit(X_train,Y_train)\n",
        "\n",
        "y_pred = model.predict(X_test)\n",
        "accuracy_knn = accuracy_score(Y_test, y_pred)\n",
        "f1_knn=f1_score(Y_test,y_pred_tree, average='macro')\n",
        "accuracies.append(accuracy_knn*100)\n",
        "f1.append(f1_knn)\n",
        "accuracy_knn*100\n",
        "print(\"Accuracy of KNN\", accuracy_knn*100)\n",
        "print(\"f1_score of KNN\", f1_knn)"
      ]
    },
    {
      "cell_type": "code",
      "execution_count": null,
      "metadata": {
        "colab": {
          "base_uri": "https://localhost:8080/",
          "height": 509
        },
        "id": "FP6WXoYjcpF8",
        "outputId": "5a785440-02a1-47e6-dfc6-e71999036384"
      },
      "outputs": [],
      "source": [
        "cpm = confusion_matrix(Y_test, y_pred)\n",
        "\n",
        "ax = sns.heatmap(cpm, annot=True, cmap='Blues')\n",
        "\n",
        "\n",
        "plt.title(\"Confusion Matrix for KNN Classifier\", fontsize = 17) # title with fontsize 20\n",
        "plt.xlabel(\"Actual Values\", fontsize = 15) # x-axis label with fontsize 15\n",
        "plt.ylabel(\"Predicted Values\", fontsize = 15) # y-axis label with fontsize 15"
      ]
    },
    {
      "cell_type": "markdown",
      "metadata": {
        "id": "7QqHN-eQtWdF"
      },
      "source": [
        "## Naive Bayes"
      ]
    },
    {
      "cell_type": "code",
      "execution_count": null,
      "metadata": {
        "colab": {
          "base_uri": "https://localhost:8080/"
        },
        "id": "NBE3oRk1c613",
        "outputId": "660d3a6d-c068-46bc-efa0-70c8a9600dd1"
      },
      "outputs": [],
      "source": [
        "gb = GaussianNB()\n",
        "\n",
        "# Training\n",
        "gb.fit(X_train,Y_train)\n",
        "\n",
        "y_pred_gb = gb.predict(X_test)\n",
        "\n",
        "accuracy_gb = accuracy_score(Y_test, y_pred_gb)\n",
        "\n",
        "f1_gb=f1_score(Y_test,y_pred_gb, average='weighted')\n",
        "\n",
        "accuracies.append(accuracy_gb*100)\n",
        "\n",
        "print(\"Accuracy of Naive Bayes\", accuracy_gb*100)\n",
        "print(\"f1_score of Naive Bayes\", f1_gb)"
      ]
    },
    {
      "cell_type": "code",
      "execution_count": null,
      "metadata": {
        "colab": {
          "base_uri": "https://localhost:8080/",
          "height": 509
        },
        "id": "BK-lj8OOc649",
        "outputId": "6f592ae7-6984-485d-b790-bc9ca1d2fa32"
      },
      "outputs": [],
      "source": [
        "cm_gb = confusion_matrix(Y_test, y_pred_gb)\n",
        "\n",
        "ax = sns.heatmap(cm_gb, annot=True, cmap='Blues')\n",
        "\n",
        "\n",
        "plt.title(\"Confusion Matrix for Naive Bayes Classifier\", fontsize = 17) # title with fontsize 20\n",
        "plt.xlabel(\"Actual Values\", fontsize = 15) # x-axis label with fontsize 15\n",
        "plt.ylabel(\"Predicted Values\", fontsize = 15) # y-axis label with fontsize 15"
      ]
    },
    {
      "cell_type": "markdown",
      "metadata": {
        "id": "Cq9_xHJvtcqW"
      },
      "source": [
        "## Support Vector Classifier"
      ]
    },
    {
      "cell_type": "code",
      "execution_count": null,
      "metadata": {
        "colab": {
          "base_uri": "https://localhost:8080/",
          "height": 966
        },
        "id": "q9vbTgfKfZup",
        "outputId": "1fe49d90-e8ed-4519-bcb3-87c691c9d0a1"
      },
      "outputs": [],
      "source": [
        "accuracies = []\n",
        "\n",
        "# Values of C to iterate over\n",
        "C_values = [0.1, 1, 5, 10, 100, 1000, 10000]\n",
        "\n",
        "for c in C_values:\n",
        "    sv = SVC(kernel='rbf', gamma='scale', C=c)\n",
        "\n",
        "    # Training\n",
        "    sv.fit(X_train, Y_train)\n",
        "\n",
        "    y_pred_svc = sv.predict(X_test)\n",
        "\n",
        "    accuracy_svc = accuracy_score(Y_test, y_pred_svc)\n",
        "\n",
        "    # Calculate F1 score for the current model\n",
        "    f1_svc = f1_score(Y_test, y_pred_svc, average='macro')\n",
        "\n",
        "    accuracies.append(accuracy_svc * 100)\n",
        "\n",
        "    print(f\"Results for C = {c}:\")\n",
        "    print(\"Accuracy of Support Vector Classifier:\", accuracy_svc * 100)\n",
        "    print(\"F1 score of Support Vector Classifier:\", f1_svc)\n",
        "    print(\"--------\")\n",
        "\n",
        "plt.bar(np.log10(C_values), accuracies, color='blue')  # Use log scale for x-axis\n",
        "plt.xlabel('C values (log base 10)')\n",
        "plt.ylabel('Accuracy (%)')\n",
        "plt.title('Accuracy of Support Vector Classifier for Different C values')\n",
        "plt.ylim(95, 100)  # adjust y-axis limits\n",
        "plt.show()\n"
      ]
    },
    {
      "cell_type": "code",
      "execution_count": null,
      "metadata": {
        "colab": {
          "base_uri": "https://localhost:8080/",
          "height": 509
        },
        "id": "VEyBfVw8c6_C",
        "outputId": "9318ec31-22c9-4183-85de-8545ad40cabc"
      },
      "outputs": [],
      "source": [
        "cm_svc = confusion_matrix(Y_test, y_pred_svc)\n",
        "\n",
        "ax = sns.heatmap(cm_svc, annot=True, cmap='Blues')\n",
        "\n",
        "\n",
        "plt.title(\"Confusion Matrix for Support Vector Classifier\", fontsize = 17) # title with fontsize 20\n",
        "plt.xlabel(\"Actual Values\", fontsize = 15) # x-axis label with fontsize 15\n",
        "plt.ylabel(\"Predicted Values\", fontsize = 15) # y-axis label with fontsize 15"
      ]
    },
    {
      "cell_type": "markdown",
      "metadata": {},
      "source": [
        "## Model Performance Comparisons"
      ]
    },
    {
      "cell_type": "code",
      "execution_count": null,
      "metadata": {
        "id": "PtQHTiQJeZBc"
      },
      "outputs": [],
      "source": [
        "compare=pd.DataFrame()\n",
        "compare['Model']=[\"DT\",\"KNN\",\"NB\",\"SVC\"]\n",
        "compare[\"Accuracy\"]=[accuracy_dt*100,accuracy_knn*100,accuracy_gb*100,accuracy_svc*100]\n",
        "compare[\"F1_Score\"]=[f1_dt, f1_knn, f1_gb, f1_svc]\n",
        "compare[\"Legend\"]=['with phosphorous', 'with phosphorous', 'with phosphorous', 'with phosphorous']"
      ]
    },
    {
      "cell_type": "code",
      "execution_count": null,
      "metadata": {
        "colab": {
          "base_uri": "https://localhost:8080/",
          "height": 573
        },
        "id": "BX7TyhWdgh2I",
        "outputId": "9ae6fdb0-604a-4413-88fc-7bbfb25dfc79"
      },
      "outputs": [],
      "source": [
        "plt.figure(figsize=(8, 6))\n",
        "sns.set(style=\"whitegrid\")\n",
        "ax=sns.barplot(y='Accuracy',x='Model',data=compare)\n",
        "ax.bar_label(ax.containers[0]);\n",
        "plt.title('Accuracy For Different Machine Learning Models');"
      ]
    },
    {
      "cell_type": "code",
      "execution_count": null,
      "metadata": {
        "colab": {
          "base_uri": "https://localhost:8080/",
          "height": 573
        },
        "id": "J6dXfebOj0kM",
        "outputId": "45f9d148-9c9d-4745-a1c5-cfff31cce0d3"
      },
      "outputs": [],
      "source": [
        "plt.figure(figsize=(8, 6))\n",
        "sns.set(style=\"whitegrid\")\n",
        "ax=sns.barplot(y='F1_Score',x='Model',data=compare)\n",
        "ax.bar_label(ax.containers[0])\n",
        "plt.title('F1_Score For Different Machine Learning Model');"
      ]
    },
    {
      "cell_type": "code",
      "execution_count": null,
      "metadata": {
        "colab": {
          "base_uri": "https://localhost:8080/",
          "height": 546
        },
        "id": "pHK9bB8GeQMD",
        "outputId": "f0cb777d-7c02-42ac-ae29-2eb27b1d6678"
      },
      "outputs": [],
      "source": [
        "corr = df.corr()\n",
        "ax = sns.heatmap(corr,annot=True, cbar=True, cmap='coolwarm')\n",
        "\n",
        "\n",
        "plt.title(\"Correlation Matrix\", fontsize = 20); # title with fontsize 20"
      ]
    },
    {
      "cell_type": "markdown",
      "metadata": {
        "id": "IqXJjV1xoBFr"
      },
      "source": [
        "**Phosphorous and potassium has high correlation**.\n",
        "\n",
        "**Evaluating model performance by dropping a feature(Phosphorous)**"
      ]
    },
    {
      "cell_type": "code",
      "execution_count": null,
      "metadata": {
        "id": "QXEaiGc62LBs"
      },
      "outputs": [],
      "source": [
        "features = df[['N','K', 'temperature','humidity','ph','rainfall']]\n",
        "labels = df['label']"
      ]
    },
    {
      "cell_type": "code",
      "execution_count": null,
      "metadata": {
        "id": "sKgd4c4q4bfC"
      },
      "outputs": [],
      "source": [
        "accuracies=[]\n",
        "X_train, X_test, Y_train, Y_test = train_test_split(features, labels, test_size = 0.20, random_state = 0)"
      ]
    },
    {
      "cell_type": "code",
      "execution_count": null,
      "metadata": {
        "colab": {
          "base_uri": "https://localhost:8080/"
        },
        "id": "vxvccbszVeEw",
        "outputId": "4b66e333-b49d-4c9d-e4c2-1b146bce2b54"
      },
      "outputs": [],
      "source": [
        "scaler = MinMaxScaler()\n",
        "scaler.fit(X_train)\n",
        "X_train = scaler.transform(X_train)\n",
        "X_test = scaler.transform(X_test)\n",
        "print(X_train.shape)\n",
        "print(X_train)"
      ]
    },
    {
      "cell_type": "markdown",
      "metadata": {
        "id": "YYH_UqD9odYS"
      },
      "source": [
        "## Decision Tree"
      ]
    },
    {
      "cell_type": "code",
      "execution_count": null,
      "metadata": {
        "colab": {
          "base_uri": "https://localhost:8080/"
        },
        "id": "c1KhdEkU6z4p",
        "outputId": "c98da7dd-ecfe-4c4f-fb6a-aa0b90ae35d4"
      },
      "outputs": [],
      "source": [
        "tree = DecisionTreeClassifier()\n",
        "# Training\n",
        "tree = tree.fit(X_train, Y_train)\n",
        "\n",
        "y_pred_tree = tree.predict(X_test)\n",
        "accuracy_dt = accuracy_score(Y_test, y_pred_tree)\n",
        "f1_dt=f1_score(Y_test,y_pred_tree, average='macro')\n",
        "accuracies.append(accuracy_dt*100)\n",
        "f1.append(f1_dt)\n",
        "print(\"Accuracy of Decision Tree\", accuracy_dt*100)\n",
        "print(\"f1_score of Decision Tree\", f1_dt)"
      ]
    },
    {
      "cell_type": "code",
      "execution_count": null,
      "metadata": {
        "colab": {
          "base_uri": "https://localhost:8080/",
          "height": 506
        },
        "id": "M2ANjmJtmoM5",
        "outputId": "d9bae833-173e-4ec7-f92f-f518999a80c8"
      },
      "outputs": [],
      "source": [
        "cm= confusion_matrix(Y_test, y_pred_tree)\n",
        "\n",
        "ax = sns.heatmap(cm, annot=True, cmap='Blues')\n",
        "\n",
        "plt.title(\"Confusion Matrix for Decision Tree Classifier without phosphorous\", fontsize = 15) # title with fontsize 20\n",
        "plt.xlabel(\"Actual Values\", fontsize = 15) # x-axis label with fontsize 15\n",
        "plt.ylabel(\"Predicted Values\", fontsize = 15) # y-axis label with fontsize 15"
      ]
    },
    {
      "cell_type": "markdown",
      "metadata": {
        "id": "vV203VBKovhA"
      },
      "source": [
        "## KNN Classifier"
      ]
    },
    {
      "cell_type": "code",
      "execution_count": null,
      "metadata": {
        "colab": {
          "base_uri": "https://localhost:8080/"
        },
        "id": "bnXCgCfC7sHx",
        "outputId": "101d35fc-00bb-494a-8fb5-2c8f11624e79"
      },
      "outputs": [],
      "source": [
        "model = KNeighborsClassifier(n_neighbors=3)\n",
        "\n",
        "# Training\n",
        "model.fit(X_train,Y_train)\n",
        "\n",
        "y_pred = model.predict(X_test)\n",
        "accuracy_knn = accuracy_score(Y_test, y_pred)\n",
        "f1_knn=f1_score(Y_test,y_pred_tree, average='macro')\n",
        "accuracies.append(accuracy_knn*100)\n",
        "f1.append(f1_knn)\n",
        "accuracy_knn*100\n",
        "print(\"Accuracy of KNN\", accuracy_knn*100)\n",
        "print(\"f1_score of KNN\", f1_knn)"
      ]
    },
    {
      "cell_type": "code",
      "execution_count": null,
      "metadata": {
        "colab": {
          "base_uri": "https://localhost:8080/",
          "height": 489
        },
        "id": "rb7VfBSOmzUY",
        "outputId": "abbe184a-5cdd-4675-ba0b-6f7be90d833b"
      },
      "outputs": [],
      "source": [
        "cpm = confusion_matrix(Y_test, y_pred)\n",
        "\n",
        "ax = sns.heatmap(cpm, annot=True, cmap='Blues')\n",
        "\n",
        "\n",
        "plt.title(\"Confusion Matrix for KNN Classifier without phosphorous\", fontsize = 15) # title with fontsize 15\n",
        "plt.xlabel(\"Actual Values\", fontsize = 15) # x-axis label with fontsize 15\n",
        "plt.ylabel(\"Predicted Values\", fontsize = 15); # y-axis label with fontsize 15"
      ]
    },
    {
      "cell_type": "markdown",
      "metadata": {
        "id": "UOwJ98CVo0EY"
      },
      "source": [
        "## Naive Bayes"
      ]
    },
    {
      "cell_type": "code",
      "execution_count": null,
      "metadata": {
        "colab": {
          "base_uri": "https://localhost:8080/"
        },
        "id": "yTnbWz3872Lc",
        "outputId": "cc05f242-924e-4dbc-e311-bba63905d3fe"
      },
      "outputs": [],
      "source": [
        "gb = GaussianNB()\n",
        "\n",
        "# Training\n",
        "gb=gb.fit(X_train,Y_train)\n",
        "GaussianNB()\n",
        "y_pred_gb = gb.predict(X_test)\n",
        "accuracy_gb = accuracy_score(Y_test, y_pred_gb)\n",
        "f1_gb=f1_score(Y_test,y_pred_tree, average='weighted')\n",
        "accuracies.append(accuracy_gb*100)\n",
        "accuracy_gb*100\n",
        "print(\"Accuracy of Naive Bayes\", accuracy_gb*100)\n",
        "print(\"f1_score of Naive Bayes\", f1_gb)"
      ]
    },
    {
      "cell_type": "code",
      "execution_count": null,
      "metadata": {
        "colab": {
          "base_uri": "https://localhost:8080/",
          "height": 506
        },
        "id": "fZFmbYPlm-Mx",
        "outputId": "7470ba5c-154d-4ce5-a345-94238ec9b6aa"
      },
      "outputs": [],
      "source": [
        "cpm = confusion_matrix(Y_test, y_pred)\n",
        "\n",
        "ax = sns.heatmap(cpm, annot=True, cmap='Blues')\n",
        "\n",
        "\n",
        "plt.title(\"Confusion Matrix for Naive Bayes Classifier without phosphorous\", fontsize = 15) # title with fontsize 20\n",
        "plt.xlabel(\"Actual Values\", fontsize = 15) # x-axis label with fontsize 15\n",
        "plt.ylabel(\"Predicted Values\", fontsize = 15) # y-axis label with fontsize 15"
      ]
    },
    {
      "cell_type": "markdown",
      "metadata": {
        "id": "YFGupcXyo6Pn"
      },
      "source": [
        "## Support Vector Classifier"
      ]
    },
    {
      "cell_type": "code",
      "execution_count": null,
      "metadata": {
        "colab": {
          "base_uri": "https://localhost:8080/",
          "height": 966
        },
        "id": "QAEu6ajoinLd",
        "outputId": "3d996f54-b2a9-4a5b-8664-7c5d094be1c9"
      },
      "outputs": [],
      "source": [
        "accuracies = []\n",
        "\n",
        "# Values of C to iterate over\n",
        "C_values = [0.1, 1, 5, 10, 100, 1000, 10000]\n",
        "\n",
        "for c in C_values:\n",
        "    sv = SVC(kernel='rbf', gamma='scale', C=c)\n",
        "\n",
        "    # Training\n",
        "    sv.fit(X_train, Y_train)\n",
        "\n",
        "    y_pred_svc = sv.predict(X_test)\n",
        "\n",
        "    accuracy_svc = accuracy_score(Y_test, y_pred_svc)\n",
        "\n",
        "    # Calculate F1 score for the current model\n",
        "    f1_svc = f1_score(Y_test,y_pred_svc, average='macro')\n",
        "\n",
        "    accuracies.append(accuracy_svc * 100)\n",
        "\n",
        "    print(f\"Results for C = {c}:\")\n",
        "    print(\"Accuracy of Support Vector Classifier:\", accuracy_svc * 100)\n",
        "    print(\"F1 score of Support Vector Classifier:\", f1_svc)\n",
        "    print(\"--------\")\n",
        "\n",
        "plt.bar(np.log10(C_values), accuracies, color='blue')  # Use log scale for x-axis\n",
        "plt.xlabel('log10(C values)')\n",
        "plt.ylabel('Accuracy (%)')\n",
        "plt.title('Accuracy of Support Vector Classifier for Different C values')\n",
        "plt.ylim(95, 100)  # adjust y-axis limits\n",
        "plt.show()\n"
      ]
    },
    {
      "cell_type": "code",
      "execution_count": null,
      "metadata": {
        "colab": {
          "base_uri": "https://localhost:8080/",
          "height": 489
        },
        "id": "RWuqw-HAnB7-",
        "outputId": "88c1ae79-6600-4af1-ea22-2dec8a3fe8b5"
      },
      "outputs": [],
      "source": [
        "cpm = confusion_matrix(Y_test, y_pred)\n",
        "\n",
        "ax = sns.heatmap(cpm, annot=True, cmap='Blues')\n",
        "\n",
        "\n",
        "plt.title(\"Confusion Matrix for Support Vector Classifier Without Phosphorous\", fontsize = 15) # title with fontsize 20\n",
        "plt.xlabel(\"Actual Values\", fontsize = 15) # x-axis label with fontsize 15\n",
        "plt.ylabel(\"Predicted Values\", fontsize = 15); # y-axis label with fontsize 15"
      ]
    },
    {
      "cell_type": "markdown",
      "metadata": {},
      "source": [
        "## Model Performance Comparisons After Dropping a Feature"
      ]
    },
    {
      "cell_type": "code",
      "execution_count": null,
      "metadata": {
        "id": "GP5hCh8ruUeh"
      },
      "outputs": [],
      "source": [
        "compare_without_P=pd.DataFrame()\n",
        "compare_without_P['Model']=[\"DT\",\"KNN\",\"NB\",\"SVC\"]\n",
        "compare_without_P[\"Accuracy\"]=[accuracy_dt*100,accuracy_knn*100,accuracy_gb*100,accuracy_svc*100]\n",
        "compare_without_P[\"F1_Score\"]=[f1_dt, f1_knn, f1_gb, f1_svc]\n",
        "compare_without_P[\"Legend\"]=['without phosphorous','without phosphorous', 'without phosphorous', 'without phosphorous']"
      ]
    },
    {
      "cell_type": "code",
      "execution_count": null,
      "metadata": {
        "colab": {
          "base_uri": "https://localhost:8080/",
          "height": 573
        },
        "id": "9Jm_I1rfuUmw",
        "outputId": "d3e0590e-69f3-4fa3-84ca-e396cf39a246"
      },
      "outputs": [],
      "source": [
        "plt.figure(figsize=(8, 6))\n",
        "sns.set(style=\"whitegrid\")\n",
        "ax=sns.barplot(y='Accuracy',x='Model',data=compare_without_P)\n",
        "ax.bar_label(ax.containers[0])\n",
        "plt.title('Accuracy For Different Machine Learning Models');"
      ]
    },
    {
      "cell_type": "code",
      "execution_count": null,
      "metadata": {
        "colab": {
          "base_uri": "https://localhost:8080/",
          "height": 573
        },
        "id": "XEQ8zXxRnVQn",
        "outputId": "2d9c4912-2c11-4def-e2ca-b322453e7da1"
      },
      "outputs": [],
      "source": [
        "plt.figure(figsize=(8, 6))\n",
        "sns.set(style=\"whitegrid\")\n",
        "ax=sns.barplot(y='F1_Score',x='Model',data=compare_without_P)\n",
        "ax.bar_label(ax.containers[0])\n",
        "plt.title('F1_Score For Different Machine Learning Model');"
      ]
    },
    {
      "cell_type": "code",
      "execution_count": null,
      "metadata": {
        "colab": {
          "base_uri": "https://localhost:8080/"
        },
        "id": "SFrNaIZQ8m3G",
        "outputId": "17deceaa-d734-4e00-da6d-c21396c0f8ab"
      },
      "outputs": [],
      "source": [
        "combine=compare.append(compare_without_P)"
      ]
    },
    {
      "cell_type": "code",
      "execution_count": null,
      "metadata": {
        "colab": {
          "base_uri": "https://localhost:8080/",
          "height": 623
        },
        "id": "oVLFgVAe9dvh",
        "outputId": "93d91f93-cd1c-45ca-8af9-83c086840800"
      },
      "outputs": [],
      "source": [
        "g = sns.catplot(\n",
        "    data=combine, kind=\"bar\",\n",
        "    x=\"Model\", y=\"Accuracy\", hue=\"Legend\",\n",
        "    errorbar=\"sd\", palette=\"dark\", alpha=.6, height=6\n",
        ")\n",
        "ax = g.facet_axis(0, 0)\n",
        "for c in ax.containers:\n",
        "    labels = [f'{(v.get_height()):.2f}' for v in c]\n",
        "    ax.bar_label(c, labels=labels, label_type='edge')\n",
        "\n",
        "plt.title('Comparing Accuracy Before And After Dropping Phosphorous Column');"
      ]
    },
    {
      "cell_type": "code",
      "execution_count": null,
      "metadata": {
        "colab": {
          "base_uri": "https://localhost:8080/",
          "height": 623
        },
        "id": "q96jsrnhIDG2",
        "outputId": "423f0716-b576-4b4a-b0a3-4cf9670cd328"
      },
      "outputs": [],
      "source": [
        "g = sns.catplot(\n",
        "    data=combine, kind=\"bar\",\n",
        "    x=\"Model\", y=\"F1_Score\", hue=\"Legend\",\n",
        "    errorbar=\"sd\", palette=\"dark\", alpha=.6, height=6\n",
        ")\n",
        "ax = g.facet_axis(0, 0)\n",
        "for c in ax.containers:\n",
        "    labels = [f'{(v.get_height()):.3f}' for v in c]\n",
        "    ax.bar_label(c, labels=labels, label_type='edge')\n",
        "\n",
        "plt.title('Comparing F1_Score Before and After Dropping Phosphorous');"
      ]
    },
    {
      "cell_type": "markdown",
      "metadata": {},
      "source": [
        "## Predictions"
      ]
    },
    {
      "cell_type": "code",
      "execution_count": null,
      "metadata": {
        "colab": {
          "base_uri": "https://localhost:8080/"
        },
        "id": "7df26NsLaL6r",
        "outputId": "ff9a0c58-7c1e-40fb-b16e-8b3e4b0e060f"
      },
      "outputs": [],
      "source": [
        "values = [[27,\t200,\t21.452787,\t90.745319,\t6.110219,\t116.703658]]\n",
        "values = scaler.transform(values)\n",
        "print(values)"
      ]
    },
    {
      "cell_type": "code",
      "execution_count": null,
      "metadata": {
        "colab": {
          "base_uri": "https://localhost:8080/"
        },
        "id": "4gKDKW5XNh2Y",
        "outputId": "1e0685e5-eed6-4197-b3c4-600116026c04"
      },
      "outputs": [],
      "source": [
        "values = [[0.19285714, 0.975, 0.36232935, 0.89225218, 0.40327048, 0.3463106 ]]\n",
        "y_pred= gb.predict(values);\n",
        "y_pred[0]"
      ]
    },
    {
      "cell_type": "code",
      "execution_count": null,
      "metadata": {
        "colab": {
          "base_uri": "https://localhost:8080/"
        },
        "id": "QL4KLkhDeB1a",
        "outputId": "8597ce35-74c8-4af0-aceb-97023b27db4f"
      },
      "outputs": [],
      "source": [
        "crops=['apple', 'banana', 'blackgram', 'chickpea', 'coconut', 'coffee', 'cotton',\n",
        " 'grapes', 'jute', 'kidneybeans', 'lentil', 'maize', 'mango', 'mothbeans',\n",
        " 'mungbean', 'muskmelon', 'orange', 'papaya', 'pigeonpeas', 'pomegranate',\n",
        " 'rice' ,'watermelon']\n",
        "print(crops[y_pred[0]])"
      ]
    }
  ],
  "metadata": {
    "colab": {
      "provenance": []
    },
    "kernelspec": {
      "display_name": "Python 3",
      "name": "python3"
    },
    "language_info": {
      "name": "python"
    }
  },
  "nbformat": 4,
  "nbformat_minor": 0
}
